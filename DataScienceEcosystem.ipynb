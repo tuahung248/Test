{
 "cells": [
  {
   "cell_type": "markdown",
   "id": "dea8c90c-f52c-42c7-b3e8-3158e44eddad",
   "metadata": {},
   "source": [
    "# Data Science Tools and Ecosystem"
   ]
  },
  {
   "cell_type": "markdown",
   "id": "7f0a8f8d-d254-48eb-9c39-b4af94195576",
   "metadata": {},
   "source": [
    "## In this notebook, Data Science Tools and Ecosystem are summarized.\n"
   ]
  },
  {
   "cell_type": "markdown",
   "id": "6db5bd24-4c3e-432e-a840-6c05579ea179",
   "metadata": {},
   "source": [
    "___Objectives:___\n",
    "- Know how to use Jupyter Notebook\n",
    "- Be able to create and working with Branches on Github\n",
    "- Know how to use Rstudio "
   ]
  },
  {
   "cell_type": "markdown",
   "id": "ed4ccf2b-8ac1-4c36-bafb-bd63d8645b6f",
   "metadata": {},
   "source": [
    "## Some of the popular languages that Data Scientists use are:\n",
    "1. Python\n",
    "2. R\n",
    "3. SQL"
   ]
  },
  {
   "cell_type": "markdown",
   "id": "7ba3ad0f-5c39-48d4-af29-652f49fdc345",
   "metadata": {},
   "source": [
    "## Some of the commonly used libraries used by Data Scientists include:\n",
    "1. NumPy\n",
    "2. Pandas\n",
    "3. Matplotlib\n",
    "4. PyTorch"
   ]
  },
  {
   "cell_type": "markdown",
   "id": "c2a4a004-413d-4933-9932-c1bc2c6fbff6",
   "metadata": {},
   "source": [
    "## Table of three development environment open source tools used in data science.\n",
    "| Data Science Tools |\n",
    "| ----- |\n",
    "| RStudio | \n",
    "| Apache Spark |\n",
    "| TensorFlow |"
   ]
  },
  {
   "cell_type": "markdown",
   "id": "f73c0afe-2994-4c62-a461-be4631573970",
   "metadata": {},
   "source": [
    "### Below are a few examples of evaluating arithmetic expressions in Python"
   ]
  },
  {
   "cell_type": "code",
   "execution_count": 1,
   "id": "29ef0e25-3d73-4af4-a84b-424fcb59f07d",
   "metadata": {},
   "outputs": [
    {
     "data": {
      "text/plain": [
       "17"
      ]
     },
     "execution_count": 1,
     "metadata": {},
     "output_type": "execute_result"
    }
   ],
   "source": [
    " # This a simple arithmetic expression to mutiply then add integers\n",
    "(3*4)+5"
   ]
  },
  {
   "cell_type": "code",
   "execution_count": 3,
   "id": "8d190161-042b-4d95-b9a3-c909c8c85042",
   "metadata": {},
   "outputs": [
    {
     "data": {
      "text/plain": [
       "3.3333333333333335"
      ]
     },
     "execution_count": 3,
     "metadata": {},
     "output_type": "execute_result"
    }
   ],
   "source": [
    "# This will convert 200 minutes to hours by diving by 60\n",
    "200 / 60 "
   ]
  },
  {
   "cell_type": "markdown",
   "id": "2aa34832-ee14-4bb6-a1dd-ab738c537a91",
   "metadata": {},
   "source": [
    "## Author\n",
    "Tuan Hung Bui "
   ]
  }
 ],
 "metadata": {
  "kernelspec": {
   "display_name": "Python 3 (ipykernel)",
   "language": "python",
   "name": "python3"
  },
  "language_info": {
   "codemirror_mode": {
    "name": "ipython",
    "version": 3
   },
   "file_extension": ".py",
   "mimetype": "text/x-python",
   "name": "python",
   "nbconvert_exporter": "python",
   "pygments_lexer": "ipython3",
   "version": "3.12.2"
  }
 },
 "nbformat": 4,
 "nbformat_minor": 5
}
